{
 "cells": [
  {
   "cell_type": "code",
   "execution_count": 3,
   "metadata": {},
   "outputs": [],
   "source": [
    "%load_ext autoreload\n",
    "%autoreload 2\n",
    "\n",
    "import helper\n",
    "import numpy as np"
   ]
  },
  {
   "cell_type": "code",
   "execution_count": 4,
   "metadata": {},
   "outputs": [
    {
     "name": "stdout",
     "output_type": "stream",
     "text": [
      "(25000, 3)\n"
     ]
    },
    {
     "data": {
      "text/html": [
       "<div>\n",
       "<style>\n",
       "    .dataframe thead tr:only-child th {\n",
       "        text-align: right;\n",
       "    }\n",
       "\n",
       "    .dataframe thead th {\n",
       "        text-align: left;\n",
       "    }\n",
       "\n",
       "    .dataframe tbody tr th {\n",
       "        vertical-align: top;\n",
       "    }\n",
       "</style>\n",
       "<table border=\"1\" class=\"dataframe\">\n",
       "  <thead>\n",
       "    <tr style=\"text-align: right;\">\n",
       "      <th></th>\n",
       "      <th>id</th>\n",
       "      <th>sentiment</th>\n",
       "      <th>review</th>\n",
       "    </tr>\n",
       "  </thead>\n",
       "  <tbody>\n",
       "    <tr>\n",
       "      <th>0</th>\n",
       "      <td>5814_8</td>\n",
       "      <td>1</td>\n",
       "      <td>With all this stuff going down at the moment w...</td>\n",
       "    </tr>\n",
       "    <tr>\n",
       "      <th>1</th>\n",
       "      <td>2381_9</td>\n",
       "      <td>1</td>\n",
       "      <td>\\The Classic War of the Worlds\\\" by Timothy Hi...</td>\n",
       "    </tr>\n",
       "    <tr>\n",
       "      <th>2</th>\n",
       "      <td>7759_3</td>\n",
       "      <td>0</td>\n",
       "      <td>The film starts with a manager (Nicholas Bell)...</td>\n",
       "    </tr>\n",
       "    <tr>\n",
       "      <th>3</th>\n",
       "      <td>3630_4</td>\n",
       "      <td>0</td>\n",
       "      <td>It must be assumed that those who praised this...</td>\n",
       "    </tr>\n",
       "    <tr>\n",
       "      <th>4</th>\n",
       "      <td>9495_8</td>\n",
       "      <td>1</td>\n",
       "      <td>Superbly trashy and wondrously unpretentious 8...</td>\n",
       "    </tr>\n",
       "  </tbody>\n",
       "</table>\n",
       "</div>"
      ],
      "text/plain": [
       "       id  sentiment                                             review\n",
       "0  5814_8          1  With all this stuff going down at the moment w...\n",
       "1  2381_9          1  \\The Classic War of the Worlds\\\" by Timothy Hi...\n",
       "2  7759_3          0  The film starts with a manager (Nicholas Bell)...\n",
       "3  3630_4          0  It must be assumed that those who praised this...\n",
       "4  9495_8          1  Superbly trashy and wondrously unpretentious 8..."
      ]
     },
     "execution_count": 4,
     "metadata": {},
     "output_type": "execute_result"
    }
   ],
   "source": [
    "# read in training data\n",
    "train_data_path = '\\\\\\\\SEAGATE-D4/Documents/My Hoang Nguyen/ML-SDrive/Sentiment Analysis/data/labeledTrainData.tsv/labeledTrainData.tsv'\n",
    "train = helper.read_in_data(train_data_path)\n",
    "\n",
    "print(train.shape)\n",
    "train.head()"
   ]
  },
  {
   "cell_type": "code",
   "execution_count": 12,
   "metadata": {},
   "outputs": [
    {
     "data": {
      "text/plain": [
       "\"With all this stuff going down at the moment with MJ i've started listening to his music, watching the odd documentary here and there, watched The Wiz and watched Moonwalker again. Maybe i just want to get a certain insight into this guy who i thought was really cool in the eighties just to maybe make up my mind whether he is guilty or innocent. Moonwalker is part biography, part feature film which i remember going to see at the cinema when it was originally released. Some of it has subtle messages about MJ's feeling towards the press and also the obvious message of drugs are bad m'kay.<br /><br />Visually impressive but of course this is all about Michael Jackson so unless you remotely like MJ in anyway then you are going to hate this and find it boring. Some may call MJ an egotist for consenting to the making of this movie BUT MJ and most of his fans would say that he made it for the fans which if true is really nice of him.<br /><br />The actual feature film bit when it finally starts is only on for 20 minutes or so excluding the Smooth Criminal sequence and Joe Pesci is convincing as a psychopathic all powerful drug lord. Why he wants MJ dead so bad is beyond me. Because MJ overheard his plans? Nah, Joe Pesci's character ranted that he wanted people to know it is he who is supplying drugs etc so i dunno, maybe he just hates MJ's music.<br /><br />Lots of cool things in this like MJ turning into a car and a robot and the whole Speed Demon sequence. Also, the director must have had the patience of a saint when it came to filming the kiddy Bad sequence as usually directors hate working with one kid let alone a whole bunch of them performing a complex dance scene.<br /><br />Bottom line, this movie is for people who like MJ on one level or another (which i think is most people). If not, then stay away. It does try and give off a wholesome message and ironically MJ's bestest buddy in this movie is a girl! Michael Jackson is truly one of the most talented people ever to grace this planet but is he guilty? Well, with all the attention i've gave this subject....hmmm well i don't know because people can be different behind closed doors, i know this for a fact. He is either an extremely nice but stupid guy or one of the most sickest liars. I hope he is not the latter.\""
      ]
     },
     "execution_count": 12,
     "metadata": {},
     "output_type": "execute_result"
    }
   ],
   "source": [
    "train['review'][0]"
   ]
  },
  {
   "cell_type": "code",
   "execution_count": 5,
   "metadata": {},
   "outputs": [
    {
     "name": "stdout",
     "output_type": "stream",
     "text": [
      "(25000, 2)\n"
     ]
    },
    {
     "data": {
      "text/html": [
       "<div>\n",
       "<style>\n",
       "    .dataframe thead tr:only-child th {\n",
       "        text-align: right;\n",
       "    }\n",
       "\n",
       "    .dataframe thead th {\n",
       "        text-align: left;\n",
       "    }\n",
       "\n",
       "    .dataframe tbody tr th {\n",
       "        vertical-align: top;\n",
       "    }\n",
       "</style>\n",
       "<table border=\"1\" class=\"dataframe\">\n",
       "  <thead>\n",
       "    <tr style=\"text-align: right;\">\n",
       "      <th></th>\n",
       "      <th>id</th>\n",
       "      <th>review</th>\n",
       "    </tr>\n",
       "  </thead>\n",
       "  <tbody>\n",
       "    <tr>\n",
       "      <th>0</th>\n",
       "      <td>12311_10</td>\n",
       "      <td>Naturally in a film who's main themes are of m...</td>\n",
       "    </tr>\n",
       "    <tr>\n",
       "      <th>1</th>\n",
       "      <td>8348_2</td>\n",
       "      <td>This movie is a disaster within a disaster fil...</td>\n",
       "    </tr>\n",
       "    <tr>\n",
       "      <th>2</th>\n",
       "      <td>5828_4</td>\n",
       "      <td>All in all, this is a movie for kids. We saw i...</td>\n",
       "    </tr>\n",
       "    <tr>\n",
       "      <th>3</th>\n",
       "      <td>7186_2</td>\n",
       "      <td>Afraid of the Dark left me with the impression...</td>\n",
       "    </tr>\n",
       "    <tr>\n",
       "      <th>4</th>\n",
       "      <td>12128_7</td>\n",
       "      <td>A very accurate depiction of small time mob li...</td>\n",
       "    </tr>\n",
       "  </tbody>\n",
       "</table>\n",
       "</div>"
      ],
      "text/plain": [
       "         id                                             review\n",
       "0  12311_10  Naturally in a film who's main themes are of m...\n",
       "1    8348_2  This movie is a disaster within a disaster fil...\n",
       "2    5828_4  All in all, this is a movie for kids. We saw i...\n",
       "3    7186_2  Afraid of the Dark left me with the impression...\n",
       "4   12128_7  A very accurate depiction of small time mob li..."
      ]
     },
     "execution_count": 5,
     "metadata": {},
     "output_type": "execute_result"
    }
   ],
   "source": [
    "# read in test data\n",
    "test_data_path = '\\\\\\\\SEAGATE-D4/Documents/My Hoang Nguyen/ML-SDrive/Sentiment Analysis/data/testData.tsv/testData.tsv'\n",
    "test = helper.read_in_data(test_data_path)\n",
    "\n",
    "print(test.shape)\n",
    "test.head()"
   ]
  },
  {
   "cell_type": "code",
   "execution_count": 6,
   "metadata": {},
   "outputs": [
    {
     "name": "stderr",
     "output_type": "stream",
     "text": [
      "c:\\users\\my hoang nguyen\\appdata\\local\\programs\\python\\python36\\lib\\site-packages\\gensim\\utils.py:860: UserWarning: detected Windows; aliasing chunkize to chunkize_serial\n",
      "  warnings.warn(\"detected Windows; aliasing chunkize to chunkize_serial\")\n"
     ]
    }
   ],
   "source": [
    "# load Google's pre-trained word2vec\n",
    "pretrained_word2vec_path = '\\\\\\\\SEAGATE-D4/Documents/My Hoang Nguyen/ML-SDrive/Sentiment Analysis/data/GoogleNews-vectors-negative300.bin'\n",
    "import gensim\n",
    "word2vec = gensim.models.KeyedVectors.load_word2vec_format(pretrained_word2vec_path, binary=True)        "
   ]
  },
  {
   "cell_type": "code",
   "execution_count": null,
   "metadata": {
    "collapsed": true
   },
   "outputs": [],
   "source": [
    "# for k in word2vec.vocab.keys():\n",
    "#     print(k)\n",
    "#     print(word2vec.vocab[k])\n",
    "# #     break"
   ]
  },
  {
   "cell_type": "code",
   "execution_count": 7,
   "metadata": {},
   "outputs": [
    {
     "name": "stdout",
     "output_type": "stream",
     "text": [
      "300\n"
     ]
    },
    {
     "data": {
      "text/plain": [
       "array([ 0.265625  ,  0.02001953, -0.01037598,  0.10449219, -0.03613281,\n",
       "        0.03540039,  0.09228516, -0.03295898, -0.03588867,  0.06738281], dtype=float32)"
      ]
     },
     "execution_count": 7,
     "metadata": {},
     "output_type": "execute_result"
    }
   ],
   "source": [
    "print(len(word2vec['around_pig_Ramfjord']))\n",
    "word2vec['around_pig_Ramfjord'][:10]"
   ]
  },
  {
   "cell_type": "code",
   "execution_count": 10,
   "metadata": {},
   "outputs": [
    {
     "name": "stdout",
     "output_type": "stream",
     "text": [
      "Found 88582 unique tokens.\n",
      "data_train.shape (25000, 2493)\n"
     ]
    }
   ],
   "source": [
    "# format texts into tensor to feed into CNN\n",
    "from keras.preprocessing.text import Tokenizer\n",
    "from keras.preprocessing.sequence import pad_sequences\n",
    "\n",
    "text_train = train['review'].tolist()\n",
    "tokenizer = Tokenizer()\n",
    "tokenizer.fit_on_texts(text_train)\n",
    "sequences = tokenizer.texts_to_sequences(text_train) # list, same len as text_train. represent word as rank/index\n",
    "\n",
    "word_index = tokenizer.word_index\n",
    "print('Found %s unique tokens.' % len(word_index))\n",
    "\n",
    "data_train = pad_sequences(sequences)\n",
    "'''\n",
    "data_train has shape of (n_reviews, word_index). \n",
    "Each review contains multiple sentences, each word in a sentence is formatted to an integer representing \n",
    "the word_index of the tokenizer\n",
    "'''\n",
    "print('data_train.shape', data_train.shape)"
   ]
  },
  {
   "cell_type": "code",
   "execution_count": 36,
   "metadata": {},
   "outputs": [
    {
     "name": "stdout",
     "output_type": "stream",
     "text": [
      "text_train[0] \n",
      " With all this stuff going down at the moment with MJ i've started listening to his music, watching the odd documentary here and there, watched The Wiz and watched Moonwalker again. Maybe i just want to get a certain insight into this guy who i thought was really cool in the eighties just to maybe make up my mind whether he is guilty or innocent. Moonwalker is part biography, part feature film which i remember going to see at the cinema when it was originally released. Some of it has subtle messages about MJ's feeling towards the press and also the obvious message of drugs are bad m'kay.<br /><br />Visually impressive but of course this is all about Michael Jackson so unless you remotely like MJ in anyway then you are going to hate this and find it boring. Some may call MJ an egotist for consenting to the making of this movie BUT MJ and most of his fans would say that he made it for the fans which if true is really nice of him.<br /><br />The actual feature film bit when it finally starts is only on for 20 minutes or so excluding the Smooth Criminal sequence and Joe Pesci is convincing as a psychopathic all powerful drug lord. Why he wants MJ dead so bad is beyond me. Because MJ overheard his plans? Nah, Joe Pesci's character ranted that he wanted people to know it is he who is supplying drugs etc so i dunno, maybe he just hates MJ's music.<br /><br />Lots of cool things in this like MJ turning into a car and a robot and the whole Speed Demon sequence. Also, the director must have had the patience of a saint when it came to filming the kiddy Bad sequence as usually directors hate working with one kid let alone a whole bunch of them performing a complex dance scene.<br /><br />Bottom line, this movie is for people who like MJ on one level or another (which i think is most people). If not, then stay away. It does try and give off a wholesome message and ironically MJ's bestest buddy in this movie is a girl! Michael Jackson is truly one of the most talented people ever to grace this planet but is he guilty? Well, with all the attention i've gave this subject....hmmm well i don't know because people can be different behind closed doors, i know this for a fact. He is either an extremely nice but stupid guy or one of the most sickest liars. I hope he is not the latter.\n",
      "len(text_train[0]) \n",
      " 2302\n",
      "len(sequences[0]) \n",
      " 438\n",
      "sequences[0] \n",
      " [16, 29, 11, 535, 167, 177, 30, 1, 558, 16, 10086, 204, 642, 2615, 5, 24, 225, 146, 1, 1028, 659, 130, 2, 47, 293, 1, 19499, 2, 293, 11585, 171, 276, 10, 40, 178, 5, 76, 3, 810, 2616, 80, 11, 229, 34, 10, 194, 13, 63, 643, 8, 1, 4252, 40, 5, 276, 94, 53, 58, 327, 723, 26, 6, 2512, 39, 1351, 11585, 6, 170, 5034, 170, 788, 19, 60, 10, 374, 167, 5, 64, 30, 1, 434, 51, 9, 13, 1816, 622, 46, 4, 9, 44, 1299, 3432, 41, 27631, 544, 946, 1, 3513, 2, 79, 1, 574, 746, 4, 1664, 23, 75, 52007, 7, 7, 2006, 1156, 18, 4, 261, 11, 6, 29, 41, 485, 1878, 35, 891, 22, 2588, 37, 10086, 8, 550, 92, 22, 23, 167, 5, 780, 11, 2, 166, 9, 354, 46, 200, 680, 10086, 32, 27632, 15, 27633, 5, 1, 228, 4, 11, 17, 18, 10086, 2, 88, 4, 24, 448, 59, 132, 12, 26, 90, 9, 15, 1, 448, 60, 45, 280, 6, 63, 324, 4, 87, 7, 7, 1, 776, 788, 19, 224, 51, 9, 414, 514, 6, 61, 20, 15, 888, 231, 39, 35, 16115, 1, 3537, 1670, 717, 2, 911, 11307, 6, 1075, 14, 3, 11926, 29, 972, 1389, 1631, 135, 26, 490, 10086, 348, 35, 75, 6, 721, 69, 85, 10086, 23379, 24, 2454, 14360, 911, 30568, 106, 30569, 12, 26, 470, 81, 5, 121, 9, 6, 26, 34, 6, 19500, 1664, 520, 35, 10, 11586, 276, 26, 40, 4138, 27631, 225, 7, 7, 772, 4, 643, 180, 8, 11, 37, 10086, 1583, 80, 3, 516, 2, 3, 2353, 2, 1, 223, 2119, 2718, 717, 79, 1, 164, 212, 25, 66, 1, 5035, 4, 3, 5558, 51, 9, 382, 5, 1418, 1, 27634, 75, 717, 14, 628, 904, 780, 777, 16, 28, 551, 384, 581, 3, 223, 758, 4, 95, 3433, 3, 1311, 833, 133, 7, 7, 1321, 344, 11, 17, 6, 15, 81, 34, 37, 10086, 20, 28, 646, 39, 157, 60, 10, 101, 6, 88, 81, 45, 21, 92, 785, 242, 9, 124, 350, 2, 199, 122, 3, 7799, 746, 2, 3606, 27631, 40830, 2064, 8, 11, 17, 6, 3, 247, 485, 1878, 6, 368, 28, 4, 1, 88, 1016, 81, 123, 5, 1693, 11, 1220, 18, 6, 26, 2512, 70, 16, 29, 1, 688, 204, 517, 11, 872, 7262, 70, 10, 89, 121, 85, 81, 67, 27, 272, 493, 4558, 3584, 10, 121, 11, 15, 3, 189, 26, 6, 342, 32, 573, 324, 18, 375, 229, 39, 28, 4, 1, 88, 19501, 19502, 10, 437, 26, 6, 21, 1, 1559]\n"
     ]
    }
   ],
   "source": [
    "print('text_train[0] \\n', text_train[0])\n",
    "print('len(text_train[0]) \\n', len(text_train[0]))\n",
    "print('len(sequences[0]) \\n', len(sequences[0]))\n",
    "print('sequences[0] \\n', sequences[0])"
   ]
  },
  {
   "cell_type": "code",
   "execution_count": 39,
   "metadata": {},
   "outputs": [
    {
     "data": {
      "text/plain": [
       "1559"
      ]
     },
     "execution_count": 39,
     "metadata": {},
     "output_type": "execute_result"
    }
   ],
   "source": [
    "tokenizer.word_index['latter']"
   ]
  },
  {
   "cell_type": "code",
   "execution_count": 16,
   "metadata": {},
   "outputs": [
    {
     "data": {
      "text/plain": [
       "array([   88, 19501, 19502,    10,   437,    26,     6,    21,     1,  1559])"
      ]
     },
     "execution_count": 16,
     "metadata": {},
     "output_type": "execute_result"
    }
   ],
   "source": [
    "data_train[0][-10:]"
   ]
  },
  {
   "cell_type": "code",
   "execution_count": 40,
   "metadata": {},
   "outputs": [
    {
     "name": "stdout",
     "output_type": "stream",
     "text": [
      "x_train.shape (20000, 2493)\n",
      "y_train.shape (20000, 2)\n",
      "x_val.shape (5000, 2493)\n",
      "y_val.shape (5000, 2)\n"
     ]
    }
   ],
   "source": [
    "# create train & validation data\n",
    "from keras.utils import to_categorical\n",
    "labels = to_categorical(np.asarray(train['sentiment']))\n",
    "\n",
    "# split the data into a training set and a validation set\n",
    "VALIDATION_SPLIT = 0.2\n",
    "indices = np.arange(data_train.shape[0])\n",
    "np.random.shuffle(indices)\n",
    "data_train = data_train[indices]\n",
    "labels = labels[indices]\n",
    "nb_validation_samples = int(VALIDATION_SPLIT * data_train.shape[0])\n",
    "\n",
    "x_train = data_train[:-nb_validation_samples]\n",
    "y_train = labels[:-nb_validation_samples]\n",
    "x_val = data_train[-nb_validation_samples:]\n",
    "y_val = labels[-nb_validation_samples:]\n",
    "\n",
    "print('x_train.shape', x_train.shape)\n",
    "print('y_train.shape', y_train.shape)\n",
    "print('x_val.shape', x_val.shape)\n",
    "print('y_val.shape', y_val.shape)"
   ]
  },
  {
   "cell_type": "code",
   "execution_count": 41,
   "metadata": {
    "collapsed": true
   },
   "outputs": [],
   "source": [
    "# create embedding_matrix\n",
    "vocab_size = len(word_index)\n",
    "EMBEDDING_DIM = 300 # this is from the pretrained vectors\n",
    "\n",
    "embedding_matrix = np.zeros((vocab_size + 1, EMBEDDING_DIM))\n",
    "for word, i in word_index.items():\n",
    "    if word in word2vec:\n",
    "        embedding_vector = word2vec[word]\n",
    "    else:\n",
    "        embedding_vector = None\n",
    "    if embedding_vector is not None:\n",
    "        # words not found in embedding index will be all-zeros.\n",
    "        embedding_matrix[i] = embedding_vector"
   ]
  },
  {
   "cell_type": "code",
   "execution_count": 42,
   "metadata": {},
   "outputs": [
    {
     "data": {
      "text/plain": [
       "(25000, 2493)"
      ]
     },
     "execution_count": 42,
     "metadata": {},
     "output_type": "execute_result"
    }
   ],
   "source": [
    "data_train.shape"
   ]
  },
  {
   "cell_type": "code",
   "execution_count": 58,
   "metadata": {
    "collapsed": true
   },
   "outputs": [],
   "source": [
    "# create embedding layer\n",
    "from keras.layers import Embedding\n",
    "\n",
    "input_length = data_train.shape[1] # len (num words) of longest review\n",
    "embedding_layer = Embedding(vocab_size + 1, EMBEDDING_DIM, weights=[embedding_matrix], input_length=input_length\n",
    "                            , trainable=False) "
   ]
  },
  {
   "cell_type": "code",
   "execution_count": 50,
   "metadata": {},
   "outputs": [
    {
     "name": "stdout",
     "output_type": "stream",
     "text": [
      "Train on 20000 samples, validate on 5000 samples\n",
      "Epoch 1/2\n",
      "20000/20000 [==============================] - 33s - loss: 0.6942 - acc: 0.4986 - val_loss: 0.6935 - val_acc: 0.4968\n",
      "Epoch 2/2\n",
      "20000/20000 [==============================] - 29s - loss: 0.6935 - acc: 0.4964 - val_loss: 0.6933 - val_acc: 0.4968\n"
     ]
    },
    {
     "data": {
      "text/plain": [
       "<keras.callbacks.History at 0x1deb3953630>"
      ]
     },
     "execution_count": 50,
     "metadata": {},
     "output_type": "execute_result"
    }
   ],
   "source": [
    "# a small 1D convnet\n",
    "from keras.layers import Dense, Input, Flatten\n",
    "from keras.layers import Conv1D, MaxPooling1D\n",
    "from keras.models import Model\n",
    "\n",
    "n_labels = 2\n",
    "sequence_input = Input(shape=(input_length,), dtype='int32')\n",
    "embedded_sequences = embedding_layer(sequence_input)\n",
    "x = Conv1D(128, 5, activation='relu')(embedded_sequences)\n",
    "x = MaxPooling1D(5)(x)\n",
    "x = Conv1D(128, 5, activation='relu')(x)\n",
    "x = MaxPooling1D(5)(x)\n",
    "x = Conv1D(128, 5, activation='relu')(x)\n",
    "x = MaxPooling1D(35)(x)  # global max pooling\n",
    "x = Flatten()(x)\n",
    "x = Dense(128, activation='relu')(x)\n",
    "preds = Dense(n_labels, activation='softmax')(x)\n",
    "\n",
    "model = Model(sequence_input, preds)\n",
    "model.compile(loss='categorical_crossentropy', optimizer='rmsprop', metrics=['acc'])\n",
    "\n",
    "# happy learning!\n",
    "model.fit(x_train, y_train, validation_data=(x_val, y_val), epochs=2, batch_size=128)"
   ]
  },
  {
   "cell_type": "code",
   "execution_count": 51,
   "metadata": {},
   "outputs": [
    {
     "name": "stdout",
     "output_type": "stream",
     "text": [
      "[name: \"/cpu:0\"\n",
      "device_type: \"CPU\"\n",
      "memory_limit: 268435456\n",
      "locality {\n",
      "}\n",
      "incarnation: 4189942563794239504\n",
      ", name: \"/gpu:0\"\n",
      "device_type: \"GPU\"\n",
      "memory_limit: 199016448\n",
      "locality {\n",
      "  bus_id: 1\n",
      "}\n",
      "incarnation: 12971655689657738912\n",
      "physical_device_desc: \"device: 0, name: GeForce GTX 970, pci bus id: 0000:01:00.0\"\n",
      "]\n"
     ]
    }
   ],
   "source": [
    "from tensorflow.python.client import device_lib\n",
    "print(device_lib.list_local_devices())"
   ]
  },
  {
   "cell_type": "code",
   "execution_count": 57,
   "metadata": {},
   "outputs": [
    {
     "name": "stdout",
     "output_type": "stream",
     "text": [
      "[[ 22.  28.]\n",
      " [ 49.  64.]]\n"
     ]
    }
   ],
   "source": [
    "import tensorflow as tf\n",
    "\n",
    "# Creates a session with log_device_placement set to True.\n",
    "sess = tf.Session(config=tf.ConfigProto(log_device_placement=True))\n",
    "\n",
    "# Creates a graph.\n",
    "a = tf.constant([1.0, 2.0, 3.0, 4.0, 5.0, 6.0], shape=[2, 3], name='a')\n",
    "b = tf.constant([1.0, 2.0, 3.0, 4.0, 5.0, 6.0], shape=[3, 2], name='b')\n",
    "c = tf.matmul(a, b)\n",
    "\n",
    "# Runs the op.\n",
    "print(sess.run(c))"
   ]
  },
  {
   "cell_type": "markdown",
   "metadata": {},
   "source": [
    "# Kim CNN"
   ]
  },
  {
   "cell_type": "markdown",
   "metadata": {},
   "source": [
    "###### - Apply CNN non-static, initialized with word2vec"
   ]
  },
  {
   "cell_type": "code",
   "execution_count": 61,
   "metadata": {},
   "outputs": [],
   "source": [
    "from keras.layers import Dense, Input, Flatten\n",
    "from keras.layers import Conv1D, GlobalMaxPooling1D, Concatenate, Dropout\n",
    "from keras.models import Model"
   ]
  },
  {
   "cell_type": "code",
   "execution_count": 64,
   "metadata": {},
   "outputs": [
    {
     "name": "stdout",
     "output_type": "stream",
     "text": [
      "____________________________________________________________________________________________________\n",
      "Layer (type)                     Output Shape          Param #     Connected to                     \n",
      "====================================================================================================\n",
      "input_4 (InputLayer)             (None, 2493)          0                                            \n",
      "____________________________________________________________________________________________________\n",
      "embedding_2 (Embedding)          (None, 2493, 300)     26574900    input_4[0][0]                    \n",
      "____________________________________________________________________________________________________\n",
      "conv1d_7 (Conv1D)                (None, 2492, 3)       1803        embedding_2[3][0]                \n",
      "____________________________________________________________________________________________________\n",
      "conv1d_8 (Conv1D)                (None, 2491, 3)       2703        embedding_2[3][0]                \n",
      "____________________________________________________________________________________________________\n",
      "conv1d_9 (Conv1D)                (None, 2490, 3)       3603        embedding_2[3][0]                \n",
      "____________________________________________________________________________________________________\n",
      "global_max_pooling1d_7 (GlobalMa (None, 3)             0           conv1d_7[0][0]                   \n",
      "____________________________________________________________________________________________________\n",
      "global_max_pooling1d_8 (GlobalMa (None, 3)             0           conv1d_8[0][0]                   \n",
      "____________________________________________________________________________________________________\n",
      "global_max_pooling1d_9 (GlobalMa (None, 3)             0           conv1d_9[0][0]                   \n",
      "____________________________________________________________________________________________________\n",
      "concatenate_3 (Concatenate)      (None, 9)             0           global_max_pooling1d_7[0][0]     \n",
      "                                                                   global_max_pooling1d_8[0][0]     \n",
      "                                                                   global_max_pooling1d_9[0][0]     \n",
      "____________________________________________________________________________________________________\n",
      "dropout_3 (Dropout)              (None, 9)             0           concatenate_3[0][0]              \n",
      "____________________________________________________________________________________________________\n",
      "dense_4 (Dense)                  (None, 128)           1280        dropout_3[0][0]                  \n",
      "____________________________________________________________________________________________________\n",
      "dense_5 (Dense)                  (None, 2)             258         dense_4[0][0]                    \n",
      "====================================================================================================\n",
      "Total params: 26,584,547\n",
      "Trainable params: 9,647\n",
      "Non-trainable params: 26,574,900\n",
      "____________________________________________________________________________________________________\n",
      "Train on 20000 samples, validate on 5000 samples\n",
      "Epoch 1/2\n",
      "20000/20000 [==============================] - 20s - loss: 0.6537 - acc: 0.5840 - val_loss: 0.5397 - val_acc: 0.7632\n",
      "Epoch 2/2\n",
      "20000/20000 [==============================] - 17s - loss: 0.5249 - acc: 0.7393 - val_loss: 0.4460 - val_acc: 0.8310\n"
     ]
    },
    {
     "data": {
      "text/plain": [
       "<keras.callbacks.History at 0x29c53d1aa20>"
      ]
     },
     "execution_count": 64,
     "metadata": {},
     "output_type": "execute_result"
    }
   ],
   "source": [
    "# parameters\n",
    "n_labels = 2\n",
    "filter_sizes = [2,3,4]\n",
    "n_filter = 3\n",
    "\n",
    "# input\n",
    "sequence_input = Input(shape=(input_length,), dtype='int32')\n",
    "# embedding: vector representation of word\n",
    "embedded_sequences = embedding_layer(sequence_input)\n",
    "# conv layer\n",
    "features = []\n",
    "for filter_size in filter_sizes:\n",
    "    # conv layer\n",
    "    x = Conv1D(n_filter, filter_size, activation='relu')(embedded_sequences)\n",
    "    # global max pooling\n",
    "    x = GlobalMaxPooling1D()(x)\n",
    "    # add features together\n",
    "    features.append(x)\n",
    "# penultimate layer\n",
    "z = Concatenate()(features)\n",
    "# dropout\n",
    "z = Dropout(0.5)(z)\n",
    "# fully connected layer\n",
    "z = Dense(128, activation='relu')(z)\n",
    "preds = Dense(n_labels, activation='softmax')(z)\n",
    "\n",
    "model = Model(sequence_input, preds)\n",
    "model.summary()\n",
    "\n",
    "model.compile(loss='categorical_crossentropy', optimizer='rmsprop', metrics=['acc'])\n",
    "\n",
    "# happy learning!\n",
    "model.fit(x_train, y_train, validation_data=(x_val, y_val), epochs=2, batch_size=128)"
   ]
  }
 ],
 "metadata": {
  "kernelspec": {
   "display_name": "Python 3",
   "language": "python",
   "name": "python3"
  },
  "language_info": {
   "codemirror_mode": {
    "name": "ipython",
    "version": 3
   },
   "file_extension": ".py",
   "mimetype": "text/x-python",
   "name": "python",
   "nbconvert_exporter": "python",
   "pygments_lexer": "ipython3",
   "version": "3.6.2"
  }
 },
 "nbformat": 4,
 "nbformat_minor": 2
}
